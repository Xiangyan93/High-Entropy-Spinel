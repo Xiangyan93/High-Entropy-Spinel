{
 "cells": [
  {
   "cell_type": "code",
   "execution_count": 1,
   "id": "02c3b45f",
   "metadata": {},
   "outputs": [],
   "source": [
    "from scipy.special import comb"
   ]
  },
  {
   "cell_type": "code",
   "execution_count": 10,
   "id": "62015aca",
   "metadata": {},
   "outputs": [
    {
     "name": "stdout",
     "output_type": "stream",
     "text": [
      "14443.0 2124279836242564.0\n"
     ]
    }
   ],
   "source": [
    "n = 0\n",
    "N = 0\n",
    "for i in range(5, 11):\n",
    "    n += comb(14, i) \n",
    "    N += comb(14, i) * comb(99, i-1)\n",
    "print(n, N)"
   ]
  },
  {
   "cell_type": "code",
   "execution_count": null,
   "id": "1c3ba8ce",
   "metadata": {},
   "outputs": [],
   "source": []
  }
 ],
 "metadata": {
  "kernelspec": {
   "display_name": "graphdot",
   "language": "python",
   "name": "graphdot"
  },
  "language_info": {
   "codemirror_mode": {
    "name": "ipython",
    "version": 3
   },
   "file_extension": ".py",
   "mimetype": "text/x-python",
   "name": "python",
   "nbconvert_exporter": "python",
   "pygments_lexer": "ipython3",
   "version": "3.9.7"
  }
 },
 "nbformat": 4,
 "nbformat_minor": 5
}
